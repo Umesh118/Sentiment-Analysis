{
  "nbformat": 4,
  "nbformat_minor": 0,
  "metadata": {
    "colab": {
      "name": "Search_bing_api.ipynb",
      "provenance": []
    },
    "kernelspec": {
      "name": "python3",
      "display_name": "Python 3"
    }
  },
  "cells": [
    {
      "cell_type": "code",
      "metadata": {
        "id": "EXINCdSJHKdC",
        "colab_type": "code",
        "colab": {}
      },
      "source": [
        "from requests import exceptions\n",
        "import requests\n",
        "import cv2\n",
        "import os"
      ],
      "execution_count": 1,
      "outputs": []
    },
    {
      "cell_type": "code",
      "metadata": {
        "id": "qS5Cai1lHRN0",
        "colab_type": "code",
        "colab": {}
      },
      "source": [
        "# set your Microsoft Cognitive Services API key along with (1) the\n",
        "# maximum number of results for a given search and (2) the group size\n",
        "# for results (maximum of 50 per request)\n",
        "API_KEY = \"INSERT_YOUR_API_KEY_HERE\"\n",
        "MAX_RESULTS = 100\n",
        "GROUP_SIZE = 50"
      ],
      "execution_count": 2,
      "outputs": []
    },
    {
      "cell_type": "code",
      "metadata": {
        "id": "T_i_dLtyHZX_",
        "colab_type": "code",
        "colab": {}
      },
      "source": [
        "# set the endpoint API URL\n",
        "URL = \"https://api.cognitive.microsoft.com/bing/v7.0/images/search\""
      ],
      "execution_count": 3,
      "outputs": []
    },
    {
      "cell_type": "code",
      "metadata": {
        "id": "gs84ydaRHoOL",
        "colab_type": "code",
        "colab": {}
      },
      "source": [
        "# when attemping to download images from the web both the Python\n",
        "# programming language and the requests library have a number of\n",
        "# exceptions that can be thrown so let's build a list of them now\n",
        "# so we can filter on them\n",
        "EXCEPTIONS = set([IOError, FileNotFoundError,\n",
        "\texceptions.RequestException, exceptions.HTTPError,\n",
        "\texceptions.ConnectionError, exceptions.Timeout])"
      ],
      "execution_count": 4,
      "outputs": []
    },
    {
      "cell_type": "code",
      "metadata": {
        "id": "-jzCwhG8Hrys",
        "colab_type": "code",
        "colab": {}
      },
      "source": [
        "# store the search term in a convenience variable then set the\n",
        "# headers and search parameters\n",
        "term = [\"query\"]\n",
        "headers = {\"Ocp-Apim-Subscription-Key\" : API_KEY}\n",
        "params = {\"q\": term, \"offset\": 0, \"count\": GROUP_SIZE}"
      ],
      "execution_count": 6,
      "outputs": []
    },
    {
      "cell_type": "code",
      "metadata": {
        "id": "RSGvHj2xH4Z8",
        "colab_type": "code",
        "colab": {}
      },
      "source": [
        "print(\"[INFO] searching Bing API for '{}'\".format(term))\n",
        "search = requests.get(URL, headers=headers, params=params)\n",
        "search.raise_for_status()"
      ],
      "execution_count": null,
      "outputs": []
    },
    {
      "cell_type": "code",
      "metadata": {
        "id": "VwQ8yUDdIv6l",
        "colab_type": "code",
        "colab": {}
      },
      "source": [
        "# grab the results from the search, including the total number of\n",
        "# estimated results returned by the Bing API\n",
        "results = search.json()\n",
        "estNumResults = min(results[\"totalEstimatedMatches\"], MAX_RESULTS)\n",
        "print(\"[INFO] {} total results for '{}'\".format(estNumResults,\n",
        "\tterm))\n",
        "\n",
        "# initialize the total number of images downloaded thus far\n",
        "total = 0\n",
        "\n",
        "# loop over the estimated number of results in `GROUP_SIZE` groups\n",
        "for offset in range(0, estNumResults, GROUP_SIZE):\n",
        "\t# update the search parameters using the current offset, then\n",
        "\t# make the request to fetch the results\n",
        "\tprint(\"[INFO] making request for group {}-{} of {}...\".format(\n",
        "\t\toffset, offset + GROUP_SIZE, estNumResults))\n",
        "\tparams[\"offset\"] = offset\n",
        "\tsearch = requests.get(URL, headers=headers, params=params)\n",
        "\tsearch.raise_for_status()\n",
        "\tresults = search.json()\n",
        "\tprint(\"[INFO] saving images for group {}-{} of {}...\".format(\n",
        "\t\toffset, offset + GROUP_SIZE, estNumResults))\n",
        "\n",
        "\t# loop over the results\n",
        "\tfor v in results[\"value\"]:\n",
        "\t\t# try to download the image\n",
        "\t\ttry:\n",
        "\t\t\t# make a request to download the image\n",
        "\t\t\tprint(\"[INFO] fetching: {}\".format(v[\"contentUrl\"]))\n",
        "\t\t\tr = requests.get(v[\"contentUrl\"], timeout=30)\n",
        "\n",
        "\t\t\t# build the path to the output image\n",
        "\t\t\text = v[\"contentUrl\"][v[\"contentUrl\"].rfind(\".\"):]\n",
        "\t\t\tp = os.path.sep.join([args[\"output\"], \"{}{}\".format(\n",
        "\t\t\t\tstr(total).zfill(8), ext)])\n",
        "\n",
        "\t\t\t# write the image to disk\n",
        "\t\t\tf = open(p, \"wb\")\n",
        "\t\t\tf.write(r.content)\n",
        "\t\t\tf.close()\n",
        "\n",
        "\t\t# catch any errors that would not unable us to download the\n",
        "\t\t# image\n",
        "\t\texcept Exception as e:\n",
        "\t\t\t# check to see if our exception is in our list of\n",
        "\t\t\t# exceptions to check for\n",
        "\t\t\tif type(e) in EXCEPTIONS:\n",
        "\t\t\t\tprint(\"[INFO] skipping: {}\".format(v[\"contentUrl\"]))\n",
        "\t\t\t\tcontinue\n",
        "\n",
        "\t\t# try to load the image from disk\n",
        "\t\timage = cv2.imread(p)\n",
        "\n",
        "\t\t# if the image is `None` then we could not properly load the\n",
        "\t\t# image from disk (so it should be ignored)\n",
        "\t\tif image is None:\n",
        "\t\t\tprint(\"[INFO] deleting: {}\".format(p))\n",
        "\t\t\tos.remove(p)\n",
        "\t\t\tcontinue\n",
        "\n",
        "\t\t# update the counter\n",
        "\t\ttotal += 1"
      ],
      "execution_count": null,
      "outputs": []
    }
  ]
}